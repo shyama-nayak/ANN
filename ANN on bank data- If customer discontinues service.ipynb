{
 "cells": [
  {
   "cell_type": "code",
   "execution_count": 1,
   "metadata": {},
   "outputs": [],
   "source": [
    "import pandas as pd\n",
    "import numpy as np\n",
    "import matplotlib.pyplot as plt"
   ]
  },
  {
   "cell_type": "markdown",
   "metadata": {},
   "source": [
    "# Data Preprocessing"
   ]
  },
  {
   "cell_type": "code",
   "execution_count": 2,
   "metadata": {},
   "outputs": [
    {
     "name": "stdout",
     "output_type": "stream",
     "text": [
      "(10000, 14)\n"
     ]
    },
    {
     "data": {
      "text/html": [
       "<div>\n",
       "<style scoped>\n",
       "    .dataframe tbody tr th:only-of-type {\n",
       "        vertical-align: middle;\n",
       "    }\n",
       "\n",
       "    .dataframe tbody tr th {\n",
       "        vertical-align: top;\n",
       "    }\n",
       "\n",
       "    .dataframe thead th {\n",
       "        text-align: right;\n",
       "    }\n",
       "</style>\n",
       "<table border=\"1\" class=\"dataframe\">\n",
       "  <thead>\n",
       "    <tr style=\"text-align: right;\">\n",
       "      <th></th>\n",
       "      <th>RowNumber</th>\n",
       "      <th>CustomerId</th>\n",
       "      <th>Surname</th>\n",
       "      <th>CreditScore</th>\n",
       "      <th>Geography</th>\n",
       "      <th>Gender</th>\n",
       "      <th>Age</th>\n",
       "      <th>Tenure</th>\n",
       "      <th>Balance</th>\n",
       "      <th>NumOfProducts</th>\n",
       "      <th>HasCrCard</th>\n",
       "      <th>IsActiveMember</th>\n",
       "      <th>EstimatedSalary</th>\n",
       "      <th>Exited</th>\n",
       "    </tr>\n",
       "  </thead>\n",
       "  <tbody>\n",
       "    <tr>\n",
       "      <td>0</td>\n",
       "      <td>1</td>\n",
       "      <td>15634602</td>\n",
       "      <td>Hargrave</td>\n",
       "      <td>619</td>\n",
       "      <td>France</td>\n",
       "      <td>Female</td>\n",
       "      <td>42</td>\n",
       "      <td>2</td>\n",
       "      <td>0.00</td>\n",
       "      <td>1</td>\n",
       "      <td>1</td>\n",
       "      <td>1</td>\n",
       "      <td>101348.88</td>\n",
       "      <td>1</td>\n",
       "    </tr>\n",
       "    <tr>\n",
       "      <td>1</td>\n",
       "      <td>2</td>\n",
       "      <td>15647311</td>\n",
       "      <td>Hill</td>\n",
       "      <td>608</td>\n",
       "      <td>Spain</td>\n",
       "      <td>Female</td>\n",
       "      <td>41</td>\n",
       "      <td>1</td>\n",
       "      <td>83807.86</td>\n",
       "      <td>1</td>\n",
       "      <td>0</td>\n",
       "      <td>1</td>\n",
       "      <td>112542.58</td>\n",
       "      <td>0</td>\n",
       "    </tr>\n",
       "    <tr>\n",
       "      <td>2</td>\n",
       "      <td>3</td>\n",
       "      <td>15619304</td>\n",
       "      <td>Onio</td>\n",
       "      <td>502</td>\n",
       "      <td>France</td>\n",
       "      <td>Female</td>\n",
       "      <td>42</td>\n",
       "      <td>8</td>\n",
       "      <td>159660.80</td>\n",
       "      <td>3</td>\n",
       "      <td>1</td>\n",
       "      <td>0</td>\n",
       "      <td>113931.57</td>\n",
       "      <td>1</td>\n",
       "    </tr>\n",
       "    <tr>\n",
       "      <td>3</td>\n",
       "      <td>4</td>\n",
       "      <td>15701354</td>\n",
       "      <td>Boni</td>\n",
       "      <td>699</td>\n",
       "      <td>France</td>\n",
       "      <td>Female</td>\n",
       "      <td>39</td>\n",
       "      <td>1</td>\n",
       "      <td>0.00</td>\n",
       "      <td>2</td>\n",
       "      <td>0</td>\n",
       "      <td>0</td>\n",
       "      <td>93826.63</td>\n",
       "      <td>0</td>\n",
       "    </tr>\n",
       "    <tr>\n",
       "      <td>4</td>\n",
       "      <td>5</td>\n",
       "      <td>15737888</td>\n",
       "      <td>Mitchell</td>\n",
       "      <td>850</td>\n",
       "      <td>Spain</td>\n",
       "      <td>Female</td>\n",
       "      <td>43</td>\n",
       "      <td>2</td>\n",
       "      <td>125510.82</td>\n",
       "      <td>1</td>\n",
       "      <td>1</td>\n",
       "      <td>1</td>\n",
       "      <td>79084.10</td>\n",
       "      <td>0</td>\n",
       "    </tr>\n",
       "  </tbody>\n",
       "</table>\n",
       "</div>"
      ],
      "text/plain": [
       "   RowNumber  CustomerId   Surname  CreditScore Geography  Gender  Age  \\\n",
       "0          1    15634602  Hargrave          619    France  Female   42   \n",
       "1          2    15647311      Hill          608     Spain  Female   41   \n",
       "2          3    15619304      Onio          502    France  Female   42   \n",
       "3          4    15701354      Boni          699    France  Female   39   \n",
       "4          5    15737888  Mitchell          850     Spain  Female   43   \n",
       "\n",
       "   Tenure    Balance  NumOfProducts  HasCrCard  IsActiveMember  \\\n",
       "0       2       0.00              1          1               1   \n",
       "1       1   83807.86              1          0               1   \n",
       "2       8  159660.80              3          1               0   \n",
       "3       1       0.00              2          0               0   \n",
       "4       2  125510.82              1          1               1   \n",
       "\n",
       "   EstimatedSalary  Exited  \n",
       "0        101348.88       1  \n",
       "1        112542.58       0  \n",
       "2        113931.57       1  \n",
       "3         93826.63       0  \n",
       "4         79084.10       0  "
      ]
     },
     "execution_count": 2,
     "metadata": {},
     "output_type": "execute_result"
    }
   ],
   "source": [
    "dataset=pd.read_csv('Churn_Modelling.csv')\n",
    "print(dataset.shape)\n",
    "dataset.head()"
   ]
  },
  {
   "cell_type": "code",
   "execution_count": 3,
   "metadata": {},
   "outputs": [],
   "source": [
    "X=dataset.iloc[:, 3:13].values\n",
    "y=dataset.iloc[:,13].values"
   ]
  },
  {
   "cell_type": "code",
   "execution_count": 4,
   "metadata": {},
   "outputs": [
    {
     "data": {
      "text/plain": [
       "array([[619, 'France', 'Female', ..., 1, 1, 101348.88],\n",
       "       [608, 'Spain', 'Female', ..., 0, 1, 112542.58],\n",
       "       [502, 'France', 'Female', ..., 1, 0, 113931.57],\n",
       "       ...,\n",
       "       [709, 'France', 'Female', ..., 0, 1, 42085.58],\n",
       "       [772, 'Germany', 'Male', ..., 1, 0, 92888.52],\n",
       "       [792, 'France', 'Female', ..., 1, 0, 38190.78]], dtype=object)"
      ]
     },
     "execution_count": 4,
     "metadata": {},
     "output_type": "execute_result"
    }
   ],
   "source": [
    "X"
   ]
  },
  {
   "cell_type": "code",
   "execution_count": 5,
   "metadata": {},
   "outputs": [
    {
     "data": {
      "text/plain": [
       "(10000,)"
      ]
     },
     "execution_count": 5,
     "metadata": {},
     "output_type": "execute_result"
    }
   ],
   "source": [
    "y.shape"
   ]
  },
  {
   "cell_type": "code",
   "execution_count": 6,
   "metadata": {},
   "outputs": [],
   "source": [
    "#encoding categorical data\n",
    "from sklearn.preprocessing import LabelEncoder, OneHotEncoder\n",
    "labelEncoder_X_1=LabelEncoder()\n",
    "X[:,1]=labelEncoder_X_1.fit_transform(X[:,1]) #Country\n",
    "labelEncoder_X_2=LabelEncoder()\n",
    "X[:,2]=labelEncoder_X_2.fit_transform(X[:,2]) #Gender"
   ]
  },
  {
   "cell_type": "code",
   "execution_count": 7,
   "metadata": {},
   "outputs": [
    {
     "data": {
      "text/plain": [
       "array([[619, 0, 0, 42, 2, 0.0, 1, 1, 1, 101348.88],\n",
       "       [608, 2, 0, 41, 1, 83807.86, 1, 0, 1, 112542.58]], dtype=object)"
      ]
     },
     "execution_count": 7,
     "metadata": {},
     "output_type": "execute_result"
    }
   ],
   "source": [
    "X[0:2, :]"
   ]
  },
  {
   "cell_type": "code",
   "execution_count": 8,
   "metadata": {},
   "outputs": [],
   "source": [
    "from sklearn.compose import ColumnTransformer #The country variable must be dummified using one hot encoder\n",
    "ct = ColumnTransformer(\n",
    "    [('one_hot_encoder', OneHotEncoder(), [1])],    # The column numbers to be transformed (here is [0] but can be [0, 1, 3])\n",
    "    remainder='passthrough'                         # Leave the rest of the columns untouched\n",
    ")\n",
    "X = np.array(ct.fit_transform(X), dtype=np.float)"
   ]
  },
  {
   "cell_type": "code",
   "execution_count": 9,
   "metadata": {},
   "outputs": [
    {
     "data": {
      "text/plain": [
       "array([1.0000000e+00, 0.0000000e+00, 0.0000000e+00, 6.1900000e+02,\n",
       "       0.0000000e+00, 4.2000000e+01, 2.0000000e+00, 0.0000000e+00,\n",
       "       1.0000000e+00, 1.0000000e+00, 1.0000000e+00, 1.0134888e+05])"
      ]
     },
     "execution_count": 9,
     "metadata": {},
     "output_type": "execute_result"
    }
   ],
   "source": [
    "X[0,:]"
   ]
  },
  {
   "cell_type": "code",
   "execution_count": 10,
   "metadata": {},
   "outputs": [],
   "source": [
    "X=X[:, 1:] #Out of the three variables created for country, after one hot encoding, remove 1 of them due to dummy variable trap"
   ]
  },
  {
   "cell_type": "code",
   "execution_count": 11,
   "metadata": {},
   "outputs": [
    {
     "data": {
      "text/plain": [
       "array([0.0000000e+00, 0.0000000e+00, 6.1900000e+02, 0.0000000e+00,\n",
       "       4.2000000e+01, 2.0000000e+00, 0.0000000e+00, 1.0000000e+00,\n",
       "       1.0000000e+00, 1.0000000e+00, 1.0134888e+05])"
      ]
     },
     "execution_count": 11,
     "metadata": {},
     "output_type": "execute_result"
    }
   ],
   "source": [
    "X[0,:]"
   ]
  },
  {
   "cell_type": "code",
   "execution_count": 12,
   "metadata": {},
   "outputs": [
    {
     "data": {
      "text/plain": [
       "(10000,)"
      ]
     },
     "execution_count": 12,
     "metadata": {},
     "output_type": "execute_result"
    }
   ],
   "source": [
    "y.shape"
   ]
  },
  {
   "cell_type": "code",
   "execution_count": 13,
   "metadata": {},
   "outputs": [
    {
     "name": "stdout",
     "output_type": "stream",
     "text": [
      "(8000, 11) (2000, 11) (8000,) (2000,)\n"
     ]
    }
   ],
   "source": [
    "from sklearn.model_selection import train_test_split\n",
    "X_train, X_test, y_train, y_test=train_test_split(X,y, test_size=0.2, stratify=y)\n",
    "print(X_train.shape, X_test.shape, y_train.shape, y_test.shape)\n"
   ]
  },
  {
   "cell_type": "code",
   "execution_count": 14,
   "metadata": {},
   "outputs": [],
   "source": [
    "from sklearn.preprocessing import StandardScaler\n",
    "scaler=StandardScaler()\n",
    "X_train=scaler.fit_transform(X_train)\n",
    "X_test=scaler.fit_transform(X_test)"
   ]
  },
  {
   "cell_type": "code",
   "execution_count": 15,
   "metadata": {},
   "outputs": [
    {
     "data": {
      "text/plain": [
       "array([[-0.57523331, -0.57253893, -0.79241473, ...,  0.63929548,\n",
       "        -1.030206  ,  1.42600543],\n",
       "       [-0.57523331, -0.57253893, -0.30630959, ..., -1.56422191,\n",
       "        -1.030206  , -1.05462873],\n",
       "       [ 1.73842505, -0.57253893,  1.04857921, ...,  0.63929548,\n",
       "        -1.030206  , -1.46151672],\n",
       "       ...,\n",
       "       [-0.57523331, -0.57253893, -0.33733757, ...,  0.63929548,\n",
       "        -1.030206  , -0.80185224],\n",
       "       [-0.57523331, -0.57253893,  0.00397029, ..., -1.56422191,\n",
       "        -1.030206  ,  0.97184149],\n",
       "       [ 1.73842505, -0.57253893, -0.57521881, ..., -1.56422191,\n",
       "        -1.030206  , -1.00400943]])"
      ]
     },
     "execution_count": 15,
     "metadata": {},
     "output_type": "execute_result"
    }
   ],
   "source": [
    "X_train"
   ]
  },
  {
   "cell_type": "markdown",
   "metadata": {},
   "source": [
    "# Apply ANN"
   ]
  },
  {
   "cell_type": "code",
   "execution_count": 16,
   "metadata": {},
   "outputs": [],
   "source": [
    "#installing keras libraries and packages\n",
    "import keras\n",
    "from keras.models import Sequential\n",
    "from keras.layers import Dense"
   ]
  },
  {
   "cell_type": "code",
   "execution_count": 20,
   "metadata": {},
   "outputs": [
    {
     "name": "stderr",
     "output_type": "stream",
     "text": [
      "C:\\Users\\Lenovo\\Anaconda3\\lib\\site-packages\\ipykernel_launcher.py:4: UserWarning: Update your `Dense` call to the Keras 2 API: `Dense(activation=\"relu\", input_dim=11, units=6, kernel_initializer=\"uniform\")`\n",
      "  after removing the cwd from sys.path.\n",
      "C:\\Users\\Lenovo\\Anaconda3\\lib\\site-packages\\ipykernel_launcher.py:6: UserWarning: Update your `Dense` call to the Keras 2 API: `Dense(activation=\"relu\", units=6, kernel_initializer=\"uniform\")`\n",
      "  \n",
      "C:\\Users\\Lenovo\\Anaconda3\\lib\\site-packages\\ipykernel_launcher.py:8: UserWarning: Update your `Dense` call to the Keras 2 API: `Dense(activation=\"sigmoid\", units=1, kernel_initializer=\"uniform\")`\n",
      "  \n"
     ]
    }
   ],
   "source": [
    "#initialize ANN\n",
    "classifier=Sequential()\n",
    "#Adding input layer and first hidden layer\n",
    "classifier.add(Dense(output_dim=6, init='uniform', activation='relu', input_dim=11)) #Relu is for Rectifier function, init (uniform) is to assign the weights uniformly near to 0\n",
    "#Adding the second hidden layer\n",
    "classifier.add(Dense(output_dim=6, init='uniform', activation='relu'))\n",
    "#Adding the output layer\n",
    "classifier.add(Dense(output_dim=1, init='uniform', activation='sigmoid'))"
   ]
  },
  {
   "cell_type": "code",
   "execution_count": 26,
   "metadata": {},
   "outputs": [
    {
     "name": "stdout",
     "output_type": "stream",
     "text": [
      "Model: \"sequential_3\"\n",
      "_________________________________________________________________\n",
      "Layer (type)                 Output Shape              Param #   \n",
      "=================================================================\n",
      "dense_4 (Dense)              (None, 6)                 72        \n",
      "_________________________________________________________________\n",
      "dense_5 (Dense)              (None, 6)                 42        \n",
      "_________________________________________________________________\n",
      "dense_6 (Dense)              (None, 1)                 7         \n",
      "=================================================================\n",
      "Total params: 121\n",
      "Trainable params: 121\n",
      "Non-trainable params: 0\n",
      "_________________________________________________________________\n"
     ]
    }
   ],
   "source": [
    "classifier.summary()"
   ]
  },
  {
   "cell_type": "code",
   "execution_count": 27,
   "metadata": {},
   "outputs": [],
   "source": [
    "#compile ann\n",
    "classifier.compile(optimizer='adam', loss='binary_crossentropy', metrics=['accuracy']) #loss ust be category_crossentropy if three categories are there in output"
   ]
  },
  {
   "cell_type": "code",
   "execution_count": 29,
   "metadata": {},
   "outputs": [
    {
     "name": "stdout",
     "output_type": "stream",
     "text": [
      "Epoch 1/100\n",
      "8000/8000 [==============================] - 6s 741us/step - loss: 0.4869 - accuracy: 0.7959\n",
      "Epoch 2/100\n",
      "8000/8000 [==============================] - 1s 184us/step - loss: 0.4296 - accuracy: 0.7962\n",
      "Epoch 3/100\n",
      "8000/8000 [==============================] - 1s 168us/step - loss: 0.4247 - accuracy: 0.7962\n",
      "Epoch 4/100\n",
      "8000/8000 [==============================] - 1s 179us/step - loss: 0.4201 - accuracy: 0.8119\n",
      "Epoch 5/100\n",
      "8000/8000 [==============================] - 2s 228us/step - loss: 0.4174 - accuracy: 0.8246\n",
      "Epoch 6/100\n",
      "8000/8000 [==============================] - 1s 175us/step - loss: 0.4149 - accuracy: 0.8286\n",
      "Epoch 7/100\n",
      "8000/8000 [==============================] - 1s 178us/step - loss: 0.4131 - accuracy: 0.8319\n",
      "Epoch 8/100\n",
      "8000/8000 [==============================] - 1s 173us/step - loss: 0.4122 - accuracy: 0.8320\n",
      "Epoch 9/100\n",
      "8000/8000 [==============================] - 1s 175us/step - loss: 0.4109 - accuracy: 0.8329\n",
      "Epoch 10/100\n",
      "8000/8000 [==============================] - 1s 184us/step - loss: 0.4102 - accuracy: 0.8336\n",
      "Epoch 11/100\n",
      "8000/8000 [==============================] - 2s 194us/step - loss: 0.4093 - accuracy: 0.8346\n",
      "Epoch 12/100\n",
      "8000/8000 [==============================] - 2s 198us/step - loss: 0.4085 - accuracy: 0.8341\n",
      "Epoch 13/100\n",
      "8000/8000 [==============================] - 2s 192us/step - loss: 0.4082 - accuracy: 0.8347\n",
      "Epoch 14/100\n",
      "8000/8000 [==============================] - 2s 195us/step - loss: 0.4075 - accuracy: 0.8349\n",
      "Epoch 15/100\n",
      "8000/8000 [==============================] - 2s 247us/step - loss: 0.4068 - accuracy: 0.8331\n",
      "Epoch 16/100\n",
      "8000/8000 [==============================] - 2s 224us/step - loss: 0.4069 - accuracy: 0.8353\n",
      "Epoch 17/100\n",
      "8000/8000 [==============================] - 1s 180us/step - loss: 0.4065 - accuracy: 0.8339\n",
      "Epoch 18/100\n",
      "8000/8000 [==============================] - 1s 179us/step - loss: 0.4058 - accuracy: 0.8342\n",
      "Epoch 19/100\n",
      "8000/8000 [==============================] - 1s 186us/step - loss: 0.4053 - accuracy: 0.8334\n",
      "Epoch 20/100\n",
      "8000/8000 [==============================] - 1s 181us/step - loss: 0.4054 - accuracy: 0.8354\n",
      "Epoch 21/100\n",
      "8000/8000 [==============================] - 1s 180us/step - loss: 0.4052 - accuracy: 0.8341\n",
      "Epoch 22/100\n",
      "8000/8000 [==============================] - 1s 180us/step - loss: 0.4050 - accuracy: 0.8347\n",
      "Epoch 23/100\n",
      "8000/8000 [==============================] - 2s 192us/step - loss: 0.4046 - accuracy: 0.8356\n",
      "Epoch 24/100\n",
      "8000/8000 [==============================] - 1s 179us/step - loss: 0.4043 - accuracy: 0.8335\n",
      "Epoch 25/100\n",
      "8000/8000 [==============================] - 2s 208us/step - loss: 0.4042 - accuracy: 0.8346\n",
      "Epoch 26/100\n",
      "8000/8000 [==============================] - 2s 237us/step - loss: 0.4040 - accuracy: 0.8346\n",
      "Epoch 27/100\n",
      "8000/8000 [==============================] - 1s 184us/step - loss: 0.4042 - accuracy: 0.8346\n",
      "Epoch 28/100\n",
      "8000/8000 [==============================] - 2s 197us/step - loss: 0.4042 - accuracy: 0.8344\n",
      "Epoch 29/100\n",
      "8000/8000 [==============================] - 1s 186us/step - loss: 0.4038 - accuracy: 0.8361\n",
      "Epoch 30/100\n",
      "8000/8000 [==============================] - 2s 190us/step - loss: 0.4037 - accuracy: 0.8355\n",
      "Epoch 31/100\n",
      "8000/8000 [==============================] - 1s 186us/step - loss: 0.4037 - accuracy: 0.8346\n",
      "Epoch 32/100\n",
      "8000/8000 [==============================] - 2s 196us/step - loss: 0.4036 - accuracy: 0.8361\n",
      "Epoch 33/100\n",
      "8000/8000 [==============================] - 2s 188us/step - loss: 0.4034 - accuracy: 0.8365\n",
      "Epoch 34/100\n",
      "8000/8000 [==============================] - 1s 185us/step - loss: 0.4033 - accuracy: 0.8357\n",
      "Epoch 35/100\n",
      "8000/8000 [==============================] - 2s 193us/step - loss: 0.4030 - accuracy: 0.8353\n",
      "Epoch 36/100\n",
      "8000/8000 [==============================] - 2s 257us/step - loss: 0.4034 - accuracy: 0.8360\n",
      "Epoch 37/100\n",
      "8000/8000 [==============================] - 2s 266us/step - loss: 0.4030 - accuracy: 0.8356\n",
      "Epoch 38/100\n",
      "8000/8000 [==============================] - 1s 185us/step - loss: 0.4030 - accuracy: 0.8364\n",
      "Epoch 39/100\n",
      "8000/8000 [==============================] - 2s 194us/step - loss: 0.4026 - accuracy: 0.8351\n",
      "Epoch 40/100\n",
      "8000/8000 [==============================] - 2s 190us/step - loss: 0.4028 - accuracy: 0.8347\n",
      "Epoch 41/100\n",
      "8000/8000 [==============================] - 1s 187us/step - loss: 0.4027 - accuracy: 0.8351\n",
      "Epoch 42/100\n",
      "8000/8000 [==============================] - 2s 190us/step - loss: 0.4024 - accuracy: 0.8361\n",
      "Epoch 43/100\n",
      "8000/8000 [==============================] - 2s 200us/step - loss: 0.4021 - accuracy: 0.8361\n",
      "Epoch 44/100\n",
      "8000/8000 [==============================] - 2s 188us/step - loss: 0.4023 - accuracy: 0.8372\n",
      "Epoch 45/100\n",
      "8000/8000 [==============================] - 2s 219us/step - loss: 0.4026 - accuracy: 0.8374\n",
      "Epoch 46/100\n",
      "8000/8000 [==============================] - 2s 238us/step - loss: 0.4021 - accuracy: 0.8360\n",
      "Epoch 47/100\n",
      "8000/8000 [==============================] - 2s 189us/step - loss: 0.4024 - accuracy: 0.8359\n",
      "Epoch 48/100\n",
      "8000/8000 [==============================] - 2s 205us/step - loss: 0.4022 - accuracy: 0.8360\n",
      "Epoch 49/100\n",
      "8000/8000 [==============================] - 2s 211us/step - loss: 0.4013 - accuracy: 0.8360\n",
      "Epoch 50/100\n",
      "8000/8000 [==============================] - 2s 242us/step - loss: 0.4017 - accuracy: 0.8371\n",
      "Epoch 51/100\n",
      "8000/8000 [==============================] - 1s 174us/step - loss: 0.4019 - accuracy: 0.8359\n",
      "Epoch 52/100\n",
      "8000/8000 [==============================] - 1s 183us/step - loss: 0.4018 - accuracy: 0.8369\n",
      "Epoch 53/100\n",
      "8000/8000 [==============================] - 2s 197us/step - loss: 0.4010 - accuracy: 0.8367\n",
      "Epoch 54/100\n",
      "8000/8000 [==============================] - 2s 198us/step - loss: 0.4015 - accuracy: 0.8369\n",
      "Epoch 55/100\n",
      "8000/8000 [==============================] - 2s 240us/step - loss: 0.4016 - accuracy: 0.8357\n",
      "Epoch 56/100\n",
      "8000/8000 [==============================] - 2s 200us/step - loss: 0.4017 - accuracy: 0.8367\n",
      "Epoch 57/100\n",
      "8000/8000 [==============================] - 1s 179us/step - loss: 0.4012 - accuracy: 0.8372\n",
      "Epoch 58/100\n",
      "8000/8000 [==============================] - 1s 178us/step - loss: 0.4012 - accuracy: 0.8370\n",
      "Epoch 59/100\n",
      "8000/8000 [==============================] - 2s 188us/step - loss: 0.4014 - accuracy: 0.8381\n",
      "Epoch 60/100\n",
      "8000/8000 [==============================] - 1s 178us/step - loss: 0.4014 - accuracy: 0.8376\n",
      "Epoch 61/100\n",
      "8000/8000 [==============================] - 1s 183us/step - loss: 0.4013 - accuracy: 0.8355\n",
      "Epoch 62/100\n",
      "8000/8000 [==============================] - 1s 184us/step - loss: 0.4013 - accuracy: 0.8374\n",
      "Epoch 63/100\n",
      "8000/8000 [==============================] - 2s 188us/step - loss: 0.4011 - accuracy: 0.8370\n",
      "Epoch 64/100\n",
      "8000/8000 [==============================] - 1s 178us/step - loss: 0.4010 - accuracy: 0.8381\n",
      "Epoch 65/100\n",
      "8000/8000 [==============================] - 2s 189us/step - loss: 0.4011 - accuracy: 0.8363\n",
      "Epoch 66/100\n",
      "8000/8000 [==============================] - 2s 242us/step - loss: 0.4009 - accuracy: 0.8374\n",
      "Epoch 67/100\n",
      "8000/8000 [==============================] - 1s 186us/step - loss: 0.4009 - accuracy: 0.8374\n",
      "Epoch 68/100\n",
      "8000/8000 [==============================] - 1s 186us/step - loss: 0.4005 - accuracy: 0.8379\n",
      "Epoch 69/100\n",
      "8000/8000 [==============================] - 1s 179us/step - loss: 0.4006 - accuracy: 0.8375\n",
      "Epoch 70/100\n",
      "8000/8000 [==============================] - 1s 179us/step - loss: 0.4010 - accuracy: 0.8364\n",
      "Epoch 71/100\n",
      "8000/8000 [==============================] - 2s 188us/step - loss: 0.4007 - accuracy: 0.8366\n",
      "Epoch 72/100\n",
      "8000/8000 [==============================] - 1s 178us/step - loss: 0.4009 - accuracy: 0.8382\n",
      "Epoch 73/100\n",
      "8000/8000 [==============================] - 1s 180us/step - loss: 0.4012 - accuracy: 0.8366\n",
      "Epoch 74/100\n",
      "8000/8000 [==============================] - 1s 181us/step - loss: 0.4006 - accuracy: 0.8380\n",
      "Epoch 75/100\n",
      "8000/8000 [==============================] - 1s 187us/step - loss: 0.4007 - accuracy: 0.8378\n",
      "Epoch 76/100\n",
      "8000/8000 [==============================] - 2s 222us/step - loss: 0.4010 - accuracy: 0.8367\n",
      "Epoch 77/100\n",
      "8000/8000 [==============================] - 2s 214us/step - loss: 0.4007 - accuracy: 0.8359\n",
      "Epoch 78/100\n",
      "8000/8000 [==============================] - 1s 147us/step - loss: 0.4003 - accuracy: 0.8372\n",
      "Epoch 79/100\n",
      "8000/8000 [==============================] - 1s 147us/step - loss: 0.4011 - accuracy: 0.8386\n",
      "Epoch 80/100\n",
      "8000/8000 [==============================] - 1s 143us/step - loss: 0.3999 - accuracy: 0.8385\n",
      "Epoch 81/100\n",
      "8000/8000 [==============================] - 1s 146us/step - loss: 0.4004 - accuracy: 0.8379\n",
      "Epoch 82/100\n",
      "8000/8000 [==============================] - 1s 145us/step - loss: 0.4007 - accuracy: 0.8374\n",
      "Epoch 83/100\n",
      "8000/8000 [==============================] - 1s 143us/step - loss: 0.4007 - accuracy: 0.8371\n",
      "Epoch 84/100\n",
      "8000/8000 [==============================] - 1s 150us/step - loss: 0.4005 - accuracy: 0.8379\n",
      "Epoch 85/100\n",
      "8000/8000 [==============================] - 1s 143us/step - loss: 0.4005 - accuracy: 0.8366\n",
      "Epoch 86/100\n",
      "8000/8000 [==============================] - 1s 148us/step - loss: 0.4007 - accuracy: 0.8379\n",
      "Epoch 87/100\n",
      "8000/8000 [==============================] - 1s 143us/step - loss: 0.4007 - accuracy: 0.8372\n",
      "Epoch 88/100\n",
      "8000/8000 [==============================] - 1s 142us/step - loss: 0.4004 - accuracy: 0.8376\n",
      "Epoch 89/100\n",
      "8000/8000 [==============================] - 2s 200us/step - loss: 0.4005 - accuracy: 0.8375\n",
      "Epoch 90/100\n",
      "8000/8000 [==============================] - 1s 155us/step - loss: 0.4004 - accuracy: 0.8372\n",
      "Epoch 91/100\n",
      "8000/8000 [==============================] - 1s 146us/step - loss: 0.4003 - accuracy: 0.8385\n",
      "Epoch 92/100\n",
      "8000/8000 [==============================] - 1s 147us/step - loss: 0.4003 - accuracy: 0.8366\n",
      "Epoch 93/100\n",
      "8000/8000 [==============================] - 1s 144us/step - loss: 0.4004 - accuracy: 0.8384\n",
      "Epoch 94/100\n",
      "8000/8000 [==============================] - 1s 147us/step - loss: 0.4002 - accuracy: 0.8378\n",
      "Epoch 95/100\n",
      "8000/8000 [==============================] - 1s 146us/step - loss: 0.4005 - accuracy: 0.8375\n",
      "Epoch 96/100\n",
      "8000/8000 [==============================] - 1s 148us/step - loss: 0.4002 - accuracy: 0.8378\n",
      "Epoch 97/100\n",
      "8000/8000 [==============================] - 1s 145us/step - loss: 0.4007 - accuracy: 0.8355\n",
      "Epoch 98/100\n",
      "8000/8000 [==============================] - 1s 145us/step - loss: 0.4003 - accuracy: 0.8369\n",
      "Epoch 99/100\n",
      "8000/8000 [==============================] - 1s 149us/step - loss: 0.4005 - accuracy: 0.8365\n",
      "Epoch 100/100\n",
      "8000/8000 [==============================] - 1s 147us/step - loss: 0.4003 - accuracy: 0.8361\n"
     ]
    },
    {
     "data": {
      "text/plain": [
       "<keras.callbacks.callbacks.History at 0x20db8f28f48>"
      ]
     },
     "execution_count": 29,
     "metadata": {},
     "output_type": "execute_result"
    }
   ],
   "source": [
    "classifier.fit(X_train, y_train, batch_size=10, epochs=100)"
   ]
  },
  {
   "cell_type": "code",
   "execution_count": 30,
   "metadata": {},
   "outputs": [],
   "source": [
    "y_test_preds=classifier.predict(X_test)"
   ]
  },
  {
   "cell_type": "code",
   "execution_count": 33,
   "metadata": {},
   "outputs": [
    {
     "data": {
      "text/plain": [
       "array([[1535,   58],\n",
       "       [ 272,  135]], dtype=int64)"
      ]
     },
     "execution_count": 33,
     "metadata": {},
     "output_type": "execute_result"
    }
   ],
   "source": [
    "#find prob for predicted probability\n",
    "y_test_preds=(y_test_preds>0.5)\n",
    "from sklearn.metrics import confusion_matrix,classification_report\n",
    "confusion_matrix(y_test, y_test_preds)"
   ]
  },
  {
   "cell_type": "code",
   "execution_count": 35,
   "metadata": {},
   "outputs": [
    {
     "name": "stdout",
     "output_type": "stream",
     "text": [
      "              precision    recall  f1-score   support\n",
      "\n",
      "           0       0.85      0.96      0.90      1593\n",
      "           1       0.70      0.33      0.45       407\n",
      "\n",
      "    accuracy                           0.83      2000\n",
      "   macro avg       0.77      0.65      0.68      2000\n",
      "weighted avg       0.82      0.83      0.81      2000\n",
      "\n"
     ]
    }
   ],
   "source": [
    "print(classification_report(y_test, y_test_preds))"
   ]
  }
 ],
 "metadata": {
  "kernelspec": {
   "display_name": "Python 3",
   "language": "python",
   "name": "python3"
  },
  "language_info": {
   "codemirror_mode": {
    "name": "ipython",
    "version": 3
   },
   "file_extension": ".py",
   "mimetype": "text/x-python",
   "name": "python",
   "nbconvert_exporter": "python",
   "pygments_lexer": "ipython3",
   "version": "3.7.4"
  }
 },
 "nbformat": 4,
 "nbformat_minor": 2
}
